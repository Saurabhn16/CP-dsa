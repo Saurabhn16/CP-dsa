{
 "cells": [
  {
   "cell_type": "code",
   "execution_count": 1,
   "metadata": {},
   "outputs": [],
   "source": [
    "import threading\n",
    "\n",
    "def merge(list1, list2):\n",
    "    \"\"\"Merge two sorted lists into a single sorted list.\"\"\"\n",
    "    merged = []\n",
    "    i = j = 0\n",
    "    while i < len(list1) and j < len(list2):\n",
    "        if list1[i] < list2[j]:\n",
    "            merged.append(list1[i])\n",
    "            i += 1\n",
    "        else:\n",
    "            merged.append(list2[j])\n",
    "            j += 1\n",
    "    merged += list1[i:] + list2[j:]\n",
    "    return merged\n",
    "\n",
    "def sort_worker(input_list, output_list, start, end, thread_semaphore, output_semaphore):\n",
    "    \"\"\"Worker function for sorting a portion of the input list.\"\"\"\n",
    "    portion = input_list[start:end]\n",
    "    portion.sort()\n",
    "    output_semaphore.acquire()\n",
    "    output_list[start:end] = portion\n",
    "    output_semaphore.release()\n",
    "    thread_semaphore.release()\n",
    "\n",
    "def concurrent_sort(input_list, num_threads):\n",
    "    \"\"\"Sort the input list concurrently using the specified number of threads.\"\"\"\n",
    "    output_list = [0] * len(input_list)\n",
    "    portion_size = len(input_list) // num_threads\n",
    "    thread_semaphores = [threading.Semaphore(0) for _ in range(num_threads)]\n",
    "    output_semaphore = threading.Semaphore(1)\n",
    "    threads = []\n",
    "    for i in range(num_threads):\n",
    "        start = i * portion_size\n",
    "        end = start + portion_size if i < num_threads - 1 else len(input_list)\n",
    "        thread = threading.Thread(target=sort_worker, args=(input_list, output_list, start, end, thread_semaphores[i], output_semaphore))\n",
    "        threads.append(thread)\n",
    "        thread.start()\n",
    "\n",
    "    for semaphore in thread_semaphores:\n",
    "        semaphore.acquire()\n",
    "\n",
    "    for i in range(1, num_threads):\n",
    "        output_list[:i*portion_size] = merge(output_list[:i*portion_size], output_list[i*portion_size:(i+1)*portion_size])\n",
    "\n",
    "    return output_list\n"
   ]
  }
 ],
 "metadata": {
  "kernelspec": {
   "display_name": "Python 3",
   "language": "python",
   "name": "python3"
  },
  "language_info": {
   "codemirror_mode": {
    "name": "ipython",
    "version": 3
   },
   "file_extension": ".py",
   "mimetype": "text/x-python",
   "name": "python",
   "nbconvert_exporter": "python",
   "pygments_lexer": "ipython3",
   "version": "3.11.1"
  },
  "orig_nbformat": 4
 },
 "nbformat": 4,
 "nbformat_minor": 2
}
